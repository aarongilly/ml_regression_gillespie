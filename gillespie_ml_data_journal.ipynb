{
 "cells": [
  {
   "cell_type": "markdown",
   "id": "e1bece34",
   "metadata": {},
   "source": [
    "# Maximizing Life Satisfaction by Applying Machine Learning to a Data Journal\n",
    "\n",
    "- Author: Aaron Gillespie  \n",
    "- Date: 2025-04-20\n",
    "\n",
    "> [!tldr]\n",
    "> A somewhat tongue-in-cheek project utilizing machine learning and business intelligence tools against **12 years of quantified self data** to determine, once and for all, what contributes to a satisfying life. Compiled for fun, but also as part of Northwest Missouri's CSIS 44670 Final. \n",
    "\n",
    "This repository is being created in service of Northwest Missouri State University 44608 Module 6 - Exploratory Data Analysis. It will accomplish the following objectives from the module:\n",
    "\n",
    "- demonstrate skills with Jupyter, pandas, Seaborn and popular tools for data analytics\n",
    "- utilize machine learning to develop predictive models\n",
    "- tell a data story and visually present findings in a clear and engaging manner\n",
    "\n",
    "And, in my case, will include one additional objective:\n",
    "- Utilizing my long-running quantified self project / data journal for an grad school assignment\n",
    "\n",
    "## About the Dataset\n",
    "\n",
    "The data gathered for this work are from many sources. The primary data sources are: \n",
    "\n",
    "- my long-running [Data Journal](https://aarongilly.com/Pages/Data-Journal) project\n",
    "- my Oura ring\n",
    "- Apple Health & various other apps\n",
    "\n",
    "The data all represent me & my life over the past 12 years. For the purposes of machine learning, the dataset will only reach back ~8 years, as I didn't start doing my daily \"Satisfaction\" score until June, 2017.\n",
    "\n",
    "### The Data Journal - in short:\n",
    "\n",
    "Data Journal is a system I built to help me keep track of stuff that happens in my life. Its form has changed greatly over the past decade, but its function has remained the same: to house data about things I do. It’s a default place to make note of things that might not otherwise have a place. I’ve tracked lots of different things over the years.\n",
    "\n",
    "![data journal gist](assets/dj.png)\n",
    "\n",
    "Building and maintaining a Data Journal is an easy and incredible habit to get into. I think everyone could benefit from having one of their own, tracking the things that are important to them.\n",
    "\n",
    "For more on my Data Journal, read [this page on my personal site](https://aarongilly.com/Pages/Data-Journal).\n",
    "\n",
    "## Section 0. Pre-work\n",
    "\n",
    "The full version of this dataset contains a multitude of things I wouldn't want published online, so much scrubbing & pre-work was done *before* the creation of the `data/` folder.\n",
    "\n",
    "Pre-work included sourcing data from various apps, fed by various pieces of hardware over the past decade.\n",
    "\n",
    "![work already done](assets/pre-work.png)\n",
    "\n",
    "The full dataset would include things like daily summaries, details about where I've gone, who I've spent time with, etc. None of those data features are present in this public-facing dataset. Thus those factors will not be considered in this model.\n",
    "\n",
    "While I was doing this sanitization - to facilitate the machine learning model I converted **categorical** data to **numeric** data using a form of **one-hot** encoding. For example, I converted an `exercise type` column into three separate columns for each exercise type I track.\n",
    "\n",
    "This was done by hand, and it isn't *techincally* \"one\" hot. For example, I could run & lift weights on the same day, which would translate to `1` in both the `Strength` and `Cardio` columns.\n",
    "\n",
    "## Section 1. Import and Inspect the Data\n",
    "\n",
    "Before we can do any machine learning, we have to obtain references to the data in code."
   ]
  },
  {
   "cell_type": "code",
   "execution_count": null,
   "id": "7f3d1892",
   "metadata": {},
   "outputs": [],
   "source": [
    "# Code imports."
   ]
  },
  {
   "cell_type": "markdown",
   "id": "6af57bc7",
   "metadata": {},
   "source": [
    "\n",
    "## Section 2. Data Exploration and Preparation"
   ]
  },
  {
   "cell_type": "markdown",
   "id": "3cc2e509",
   "metadata": {},
   "source": [
    "\n",
    "## Section 3. Feature Selection and Justification"
   ]
  },
  {
   "cell_type": "markdown",
   "id": "ddf809aa",
   "metadata": {},
   "source": [
    "\n",
    "## Section 4. Train a Model (Linear Regression)\n"
   ]
  },
  {
   "cell_type": "markdown",
   "id": "de78f182",
   "metadata": {},
   "source": [
    "## Section 5. Improve the Model or Try Alternatives (Implement Pipelines)"
   ]
  },
  {
   "cell_type": "markdown",
   "id": "847b780a",
   "metadata": {},
   "source": [
    "## Section 6. Final Thoughts & Insights\n",
    "\n",
    "\n",
    "\n",
    "### Future Work - Extensions\n",
    "\n",
    "While my dataset is extensive, it's missing all sorts of things I'd *like* for it to have. \n",
    "\n",
    "- **Diet** - While I **do** have some calories and macronutriet data, I do not have many factors relevant to a healthy life, such as the level of processing that went into the food\n",
    "- **Biomarkers** - in particular blood sugar from a continuous glucose monitor\n",
    "- **Photos** - I'd like to run all my photos through a classification model & have data about the contents of said photos, who am I taking photos of, what settings, etc\n",
    "- **Natural Language Processing** - this is full down-the-rabbit-hole territory, but it would be neat to see sentiments pulled from [my personal blog](https://aarongilly.com), the volume of [my public-facing notes](https://gillespedia.com), etc."
   ]
  }
 ],
 "metadata": {
  "language_info": {
   "name": "python"
  }
 },
 "nbformat": 4,
 "nbformat_minor": 5
}
